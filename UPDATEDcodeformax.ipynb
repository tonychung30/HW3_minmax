{
  "cells": [
    {
      "cell_type": "markdown",
      "metadata": {
        "id": "view-in-github",
        "colab_type": "text"
      },
      "source": [
        "<a href=\"https://colab.research.google.com/github/tonychung30/HW3_minmax/blob/main/UPDATEDcodeformax.ipynb\" target=\"_parent\"><img src=\"https://colab.research.google.com/assets/colab-badge.svg\" alt=\"Open In Colab\"/></a>"
      ]
    },
    {
      "cell_type": "code",
      "execution_count": null,
      "id": "2d2e3d99-7100-4941-aad8-57b178798e94",
      "metadata": {
        "id": "2d2e3d99-7100-4941-aad8-57b178798e94",
        "colab": {
          "base_uri": "https://localhost:8080/"
        },
        "outputId": "1355425f-ee05-4a3b-87dd-efc474c1466f"
      },
      "outputs": [
        {
          "output_type": "stream",
          "name": "stdout",
          "text": [
            "Collecting pulp\n",
            "  Downloading pulp-3.1.1-py3-none-any.whl.metadata (1.3 kB)\n",
            "Downloading pulp-3.1.1-py3-none-any.whl (16.4 MB)\n",
            "\u001b[2K   \u001b[90m━━━━━━━━━━━━━━━━━━━━━━━━━━━━━━━━━━━━━━━━\u001b[0m \u001b[32m16.4/16.4 MB\u001b[0m \u001b[31m25.3 MB/s\u001b[0m eta \u001b[36m0:00:00\u001b[0m\n",
            "\u001b[?25hInstalling collected packages: pulp\n",
            "Successfully installed pulp-3.1.1\n"
          ]
        }
      ],
      "source": [
        " !pip install  pulp"
      ]
    },
    {
      "cell_type": "code",
      "execution_count": null,
      "id": "a105dc9b-d105-49d3-8093-96d03eca9530",
      "metadata": {
        "id": "a105dc9b-d105-49d3-8093-96d03eca9530"
      },
      "outputs": [],
      "source": [
        "import pulp as pp"
      ]
    },
    {
      "cell_type": "markdown",
      "id": "dd461c8a-8a20-4a93-aa9e-2b46c1deaf52",
      "metadata": {
        "id": "dd461c8a-8a20-4a93-aa9e-2b46c1deaf52"
      },
      "source": [
        "1. **Initialize the MODEL**: just write the name and declare if it is maximization or minimization problem type."
      ]
    },
    {
      "cell_type": "code",
      "execution_count": null,
      "id": "4436e0c7",
      "metadata": {
        "id": "4436e0c7"
      },
      "outputs": [],
      "source": [
        "model = pp.LpProblem(name='refinery-problem', # just the name\n",
        "                     sense=pp.LpMaximize) # other option: LpMinimize"
      ]
    },
    {
      "cell_type": "markdown",
      "id": "c001fd3a-190b-45d8-9fa3-c3e21578fa03",
      "metadata": {
        "id": "c001fd3a-190b-45d8-9fa3-c3e21578fa03"
      },
      "source": [
        "2. **Declare the VARIABLES**: The refinery model consists of these _variables_:"
      ]
    },
    {
      "cell_type": "code",
      "execution_count": null,
      "id": "8533e838-9e02-4ca8-85ef-de557cb1dd7c",
      "metadata": {
        "id": "8533e838-9e02-4ca8-85ef-de557cb1dd7c"
      },
      "outputs": [],
      "source": [
        "# SuperVit\n",
        "SV = pp.LpVariable(name=\"SuperVit\",  # just the name\n",
        "                    lowBound=0,  # ensure non-negativity\n",
        "                    cat='Continuous') # when would 'Integer' be needed?\n",
        "\n",
        "# NewHealth\n",
        "NH = pp.LpVariable(name=\"NewHealth\",\n",
        "                 lowBound=0,\n",
        "                 cat='Continuous')"
      ]
    },
    {
      "cell_type": "markdown",
      "id": "611438aa-54e1-4cdd-aa77-44702feb498a",
      "metadata": {
        "id": "611438aa-54e1-4cdd-aa77-44702feb498a"
      },
      "source": [
        "3. **Create function to OPTIMIZE**: The function is just the linear combination of the variables and their _given coefficients_:"
      ]
    },
    {
      "cell_type": "code",
      "execution_count": null,
      "id": "e676c256-353d-4fbd-a206-6914f29ff8ba",
      "metadata": {
        "id": "e676c256-353d-4fbd-a206-6914f29ff8ba"
      },
      "outputs": [],
      "source": [
        "SVCoeff=0.2\n",
        "NHCoeff=0.3\n",
        "obj_func = SVCoeff * SV + NHCoeff * NH"
      ]
    },
    {
      "cell_type": "markdown",
      "id": "65a5c48f-d28c-489a-bcd4-f97be76b57c7",
      "metadata": {
        "id": "65a5c48f-d28c-489a-bcd4-f97be76b57c7"
      },
      "source": [
        "4. **Represent the constraints**: These are the rules the model (set of variables) must obey:"
      ]
    },
    {
      "cell_type": "code",
      "execution_count": null,
      "id": "c24146f7-5db5-4606-90fd-9bc010685754",
      "metadata": {
        "id": "c24146f7-5db5-4606-90fd-9bc010685754"
      },
      "outputs": [],
      "source": [
        "# SUBJECT TO:\n",
        "C1= pp.LpConstraint(name='Vitimin_C_constraint',   # Modified constraint name\n",
        "                    e= 20*SV + 30*NH,\n",
        "                    rhs=60,\n",
        "                    sense=pp.LpConstraintGE)\n",
        "C2= pp.LpConstraint(name='Calcium_constraint', # Modified constraint name\n",
        "                    e= 500*SV + 250*NH,\n",
        "                    rhs=1000,\n",
        "                    sense=pp.LpConstraintGE)\n",
        "C3= pp.LpConstraint(name='Iron_constraint', # Modified constraint name\n",
        "                    e= 9*SV + 2*NH,\n",
        "                    rhs=18,\n",
        "                    sense=pp.LpConstraintLE, )\n",
        "C4= pp.LpConstraint(name='Niacin_constraint', # Modified constraint name\n",
        "                    e= 2*SV + 10*NH,\n",
        "                    rhs=20,\n",
        "                    sense=pp.LpConstraintLE, )\n",
        "C5= pp.LpConstraint(name='Magnesium_constraint', # Modified constraint name\n",
        "                    e= 60*SV + 90*NH,\n",
        "                    rhs=360,\n",
        "                    sense=pp.LpConstraintLE, )"
      ]
    },
    {
      "cell_type": "markdown",
      "id": "10465ba5-03d5-41d0-9e65-b4c13d8a8728",
      "metadata": {
        "id": "10465ba5-03d5-41d0-9e65-b4c13d8a8728"
      },
      "source": [
        "5. **Build MODEL**: Here you add (i) the objective function, and (ii) all the constraints:"
      ]
    },
    {
      "cell_type": "code",
      "execution_count": null,
      "id": "44dd2783-49c1-44fd-952b-47743c9d4686",
      "metadata": {
        "id": "44dd2783-49c1-44fd-952b-47743c9d4686",
        "colab": {
          "base_uri": "https://localhost:8080/"
        },
        "outputId": "ae343958-801a-4ac1-c18d-ca33cfceceac"
      },
      "outputs": [
        {
          "output_type": "stream",
          "name": "stderr",
          "text": [
            "/usr/local/lib/python3.11/dist-packages/pulp/pulp.py:1780: UserWarning: Overwriting previously set objective.\n",
            "  warnings.warn(\"Overwriting previously set objective.\")\n"
          ]
        }
      ],
      "source": [
        "model += obj_func\n",
        "model += C1\n",
        "model += C2\n",
        "model += C3\n",
        "model += C4\n",
        "model += C5"
      ]
    },
    {
      "cell_type": "markdown",
      "id": "2a332886-694b-40d8-98d3-e27066b28e96",
      "metadata": {
        "id": "2a332886-694b-40d8-98d3-e27066b28e96"
      },
      "source": [
        "6. **Solve the MODEL**: Notice we are not using the _default solver_:"
      ]
    },
    {
      "cell_type": "code",
      "execution_count": null,
      "id": "636442d1-a48c-4a3a-a84d-9f2312f3d473",
      "metadata": {
        "id": "636442d1-a48c-4a3a-a84d-9f2312f3d473"
      },
      "outputs": [],
      "source": [
        "model.solve();"
      ]
    },
    {
      "cell_type": "markdown",
      "id": "1cd725f8-fef3-48b6-ad74-d102c260c134",
      "metadata": {
        "id": "1cd725f8-fef3-48b6-ad74-d102c260c134"
      },
      "source": [
        "7. **Basic Report**:\n",
        "\n",
        "From above, you can print:"
      ]
    },
    {
      "cell_type": "code",
      "execution_count": null,
      "id": "cb6125aa-53db-4fdf-8f11-8b2aaa8b347d",
      "metadata": {
        "id": "cb6125aa-53db-4fdf-8f11-8b2aaa8b347d",
        "colab": {
          "base_uri": "https://localhost:8080/"
        },
        "outputId": "751cbfe4-6bd4-4709-a129-a0e8cf643399"
      },
      "outputs": [
        {
          "output_type": "execute_result",
          "data": {
            "text/plain": [
              "('Model Status', 'Optimal')"
            ]
          },
          "metadata": {},
          "execution_count": 19
        }
      ],
      "source": [
        "\"Model Status\",pp.LpStatus[model.status]"
      ]
    },
    {
      "cell_type": "markdown",
      "id": "7db07777-25b5-46c9-9d51-f1d0e3ceb709",
      "metadata": {
        "id": "7db07777-25b5-46c9-9d51-f1d0e3ceb709"
      },
      "source": [
        "Also, get these key results:"
      ]
    },
    {
      "cell_type": "code",
      "execution_count": null,
      "id": "3a0152d1-cdd5-4426-9ba6-90556a685048",
      "metadata": {
        "id": "3a0152d1-cdd5-4426-9ba6-90556a685048",
        "colab": {
          "base_uri": "https://localhost:8080/"
        },
        "outputId": "5e1dba2b-f687-4131-eeea-813168c348ec"
      },
      "outputs": [
        {
          "output_type": "execute_result",
          "data": {
            "text/plain": [
              "{'Optimal Solution for Cheaper Pill': 0.8279069800000001,\n",
              " 'NewHealth': 1.6744186,\n",
              " 'SuperVit': 1.627907}"
            ]
          },
          "metadata": {},
          "execution_count": 21
        }
      ],
      "source": [
        "Results={\"Optimal Solution for Cheaper Pill\":pp.value(model.objective)}\n",
        "Results.update({v.name: v.varValue for v in model.variables()})\n",
        "Results"
      ]
    },
    {
      "cell_type": "code",
      "execution_count": null,
      "id": "651fadcc-cb30-4caa-98e4-f6215c0be7a9",
      "metadata": {
        "id": "651fadcc-cb30-4caa-98e4-f6215c0be7a9",
        "colab": {
          "base_uri": "https://localhost:8080/",
          "height": 142
        },
        "outputId": "81f87ead-6c90-4d66-9eb3-0efb79a3358d"
      },
      "outputs": [
        {
          "output_type": "execute_result",
          "data": {
            "text/plain": [
              "                                   info\n",
              "Optimal Solution for Cheaper Pill  0.83\n",
              "NewHealth                          1.67\n",
              "SuperVit                           1.63"
            ],
            "text/html": [
              "\n",
              "  <div id=\"df-a4a40ad8-6686-476a-9725-f30962e52bf5\" class=\"colab-df-container\">\n",
              "    <div>\n",
              "<style scoped>\n",
              "    .dataframe tbody tr th:only-of-type {\n",
              "        vertical-align: middle;\n",
              "    }\n",
              "\n",
              "    .dataframe tbody tr th {\n",
              "        vertical-align: top;\n",
              "    }\n",
              "\n",
              "    .dataframe thead th {\n",
              "        text-align: right;\n",
              "    }\n",
              "</style>\n",
              "<table border=\"1\" class=\"dataframe\">\n",
              "  <thead>\n",
              "    <tr style=\"text-align: right;\">\n",
              "      <th></th>\n",
              "      <th>info</th>\n",
              "    </tr>\n",
              "  </thead>\n",
              "  <tbody>\n",
              "    <tr>\n",
              "      <th>Optimal Solution for Cheaper Pill</th>\n",
              "      <td>0.83</td>\n",
              "    </tr>\n",
              "    <tr>\n",
              "      <th>NewHealth</th>\n",
              "      <td>1.67</td>\n",
              "    </tr>\n",
              "    <tr>\n",
              "      <th>SuperVit</th>\n",
              "      <td>1.63</td>\n",
              "    </tr>\n",
              "  </tbody>\n",
              "</table>\n",
              "</div>\n",
              "    <div class=\"colab-df-buttons\">\n",
              "\n",
              "  <div class=\"colab-df-container\">\n",
              "    <button class=\"colab-df-convert\" onclick=\"convertToInteractive('df-a4a40ad8-6686-476a-9725-f30962e52bf5')\"\n",
              "            title=\"Convert this dataframe to an interactive table.\"\n",
              "            style=\"display:none;\">\n",
              "\n",
              "  <svg xmlns=\"http://www.w3.org/2000/svg\" height=\"24px\" viewBox=\"0 -960 960 960\">\n",
              "    <path d=\"M120-120v-720h720v720H120Zm60-500h600v-160H180v160Zm220 220h160v-160H400v160Zm0 220h160v-160H400v160ZM180-400h160v-160H180v160Zm440 0h160v-160H620v160ZM180-180h160v-160H180v160Zm440 0h160v-160H620v160Z\"/>\n",
              "  </svg>\n",
              "    </button>\n",
              "\n",
              "  <style>\n",
              "    .colab-df-container {\n",
              "      display:flex;\n",
              "      gap: 12px;\n",
              "    }\n",
              "\n",
              "    .colab-df-convert {\n",
              "      background-color: #E8F0FE;\n",
              "      border: none;\n",
              "      border-radius: 50%;\n",
              "      cursor: pointer;\n",
              "      display: none;\n",
              "      fill: #1967D2;\n",
              "      height: 32px;\n",
              "      padding: 0 0 0 0;\n",
              "      width: 32px;\n",
              "    }\n",
              "\n",
              "    .colab-df-convert:hover {\n",
              "      background-color: #E2EBFA;\n",
              "      box-shadow: 0px 1px 2px rgba(60, 64, 67, 0.3), 0px 1px 3px 1px rgba(60, 64, 67, 0.15);\n",
              "      fill: #174EA6;\n",
              "    }\n",
              "\n",
              "    .colab-df-buttons div {\n",
              "      margin-bottom: 4px;\n",
              "    }\n",
              "\n",
              "    [theme=dark] .colab-df-convert {\n",
              "      background-color: #3B4455;\n",
              "      fill: #D2E3FC;\n",
              "    }\n",
              "\n",
              "    [theme=dark] .colab-df-convert:hover {\n",
              "      background-color: #434B5C;\n",
              "      box-shadow: 0px 1px 3px 1px rgba(0, 0, 0, 0.15);\n",
              "      filter: drop-shadow(0px 1px 2px rgba(0, 0, 0, 0.3));\n",
              "      fill: #FFFFFF;\n",
              "    }\n",
              "  </style>\n",
              "\n",
              "    <script>\n",
              "      const buttonEl =\n",
              "        document.querySelector('#df-a4a40ad8-6686-476a-9725-f30962e52bf5 button.colab-df-convert');\n",
              "      buttonEl.style.display =\n",
              "        google.colab.kernel.accessAllowed ? 'block' : 'none';\n",
              "\n",
              "      async function convertToInteractive(key) {\n",
              "        const element = document.querySelector('#df-a4a40ad8-6686-476a-9725-f30962e52bf5');\n",
              "        const dataTable =\n",
              "          await google.colab.kernel.invokeFunction('convertToInteractive',\n",
              "                                                    [key], {});\n",
              "        if (!dataTable) return;\n",
              "\n",
              "        const docLinkHtml = 'Like what you see? Visit the ' +\n",
              "          '<a target=\"_blank\" href=https://colab.research.google.com/notebooks/data_table.ipynb>data table notebook</a>'\n",
              "          + ' to learn more about interactive tables.';\n",
              "        element.innerHTML = '';\n",
              "        dataTable['output_type'] = 'display_data';\n",
              "        await google.colab.output.renderOutput(dataTable, element);\n",
              "        const docLink = document.createElement('div');\n",
              "        docLink.innerHTML = docLinkHtml;\n",
              "        element.appendChild(docLink);\n",
              "      }\n",
              "    </script>\n",
              "  </div>\n",
              "\n",
              "\n",
              "<div id=\"df-8f148a07-36fd-4934-9080-51af248de7cd\">\n",
              "  <button class=\"colab-df-quickchart\" onclick=\"quickchart('df-8f148a07-36fd-4934-9080-51af248de7cd')\"\n",
              "            title=\"Suggest charts\"\n",
              "            style=\"display:none;\">\n",
              "\n",
              "<svg xmlns=\"http://www.w3.org/2000/svg\" height=\"24px\"viewBox=\"0 0 24 24\"\n",
              "     width=\"24px\">\n",
              "    <g>\n",
              "        <path d=\"M19 3H5c-1.1 0-2 .9-2 2v14c0 1.1.9 2 2 2h14c1.1 0 2-.9 2-2V5c0-1.1-.9-2-2-2zM9 17H7v-7h2v7zm4 0h-2V7h2v10zm4 0h-2v-4h2v4z\"/>\n",
              "    </g>\n",
              "</svg>\n",
              "  </button>\n",
              "\n",
              "<style>\n",
              "  .colab-df-quickchart {\n",
              "      --bg-color: #E8F0FE;\n",
              "      --fill-color: #1967D2;\n",
              "      --hover-bg-color: #E2EBFA;\n",
              "      --hover-fill-color: #174EA6;\n",
              "      --disabled-fill-color: #AAA;\n",
              "      --disabled-bg-color: #DDD;\n",
              "  }\n",
              "\n",
              "  [theme=dark] .colab-df-quickchart {\n",
              "      --bg-color: #3B4455;\n",
              "      --fill-color: #D2E3FC;\n",
              "      --hover-bg-color: #434B5C;\n",
              "      --hover-fill-color: #FFFFFF;\n",
              "      --disabled-bg-color: #3B4455;\n",
              "      --disabled-fill-color: #666;\n",
              "  }\n",
              "\n",
              "  .colab-df-quickchart {\n",
              "    background-color: var(--bg-color);\n",
              "    border: none;\n",
              "    border-radius: 50%;\n",
              "    cursor: pointer;\n",
              "    display: none;\n",
              "    fill: var(--fill-color);\n",
              "    height: 32px;\n",
              "    padding: 0;\n",
              "    width: 32px;\n",
              "  }\n",
              "\n",
              "  .colab-df-quickchart:hover {\n",
              "    background-color: var(--hover-bg-color);\n",
              "    box-shadow: 0 1px 2px rgba(60, 64, 67, 0.3), 0 1px 3px 1px rgba(60, 64, 67, 0.15);\n",
              "    fill: var(--button-hover-fill-color);\n",
              "  }\n",
              "\n",
              "  .colab-df-quickchart-complete:disabled,\n",
              "  .colab-df-quickchart-complete:disabled:hover {\n",
              "    background-color: var(--disabled-bg-color);\n",
              "    fill: var(--disabled-fill-color);\n",
              "    box-shadow: none;\n",
              "  }\n",
              "\n",
              "  .colab-df-spinner {\n",
              "    border: 2px solid var(--fill-color);\n",
              "    border-color: transparent;\n",
              "    border-bottom-color: var(--fill-color);\n",
              "    animation:\n",
              "      spin 1s steps(1) infinite;\n",
              "  }\n",
              "\n",
              "  @keyframes spin {\n",
              "    0% {\n",
              "      border-color: transparent;\n",
              "      border-bottom-color: var(--fill-color);\n",
              "      border-left-color: var(--fill-color);\n",
              "    }\n",
              "    20% {\n",
              "      border-color: transparent;\n",
              "      border-left-color: var(--fill-color);\n",
              "      border-top-color: var(--fill-color);\n",
              "    }\n",
              "    30% {\n",
              "      border-color: transparent;\n",
              "      border-left-color: var(--fill-color);\n",
              "      border-top-color: var(--fill-color);\n",
              "      border-right-color: var(--fill-color);\n",
              "    }\n",
              "    40% {\n",
              "      border-color: transparent;\n",
              "      border-right-color: var(--fill-color);\n",
              "      border-top-color: var(--fill-color);\n",
              "    }\n",
              "    60% {\n",
              "      border-color: transparent;\n",
              "      border-right-color: var(--fill-color);\n",
              "    }\n",
              "    80% {\n",
              "      border-color: transparent;\n",
              "      border-right-color: var(--fill-color);\n",
              "      border-bottom-color: var(--fill-color);\n",
              "    }\n",
              "    90% {\n",
              "      border-color: transparent;\n",
              "      border-bottom-color: var(--fill-color);\n",
              "    }\n",
              "  }\n",
              "</style>\n",
              "\n",
              "  <script>\n",
              "    async function quickchart(key) {\n",
              "      const quickchartButtonEl =\n",
              "        document.querySelector('#' + key + ' button');\n",
              "      quickchartButtonEl.disabled = true;  // To prevent multiple clicks.\n",
              "      quickchartButtonEl.classList.add('colab-df-spinner');\n",
              "      try {\n",
              "        const charts = await google.colab.kernel.invokeFunction(\n",
              "            'suggestCharts', [key], {});\n",
              "      } catch (error) {\n",
              "        console.error('Error during call to suggestCharts:', error);\n",
              "      }\n",
              "      quickchartButtonEl.classList.remove('colab-df-spinner');\n",
              "      quickchartButtonEl.classList.add('colab-df-quickchart-complete');\n",
              "    }\n",
              "    (() => {\n",
              "      let quickchartButtonEl =\n",
              "        document.querySelector('#df-8f148a07-36fd-4934-9080-51af248de7cd button');\n",
              "      quickchartButtonEl.style.display =\n",
              "        google.colab.kernel.accessAllowed ? 'block' : 'none';\n",
              "    })();\n",
              "  </script>\n",
              "</div>\n",
              "\n",
              "    </div>\n",
              "  </div>\n"
            ],
            "application/vnd.google.colaboratory.intrinsic+json": {
              "type": "dataframe",
              "summary": "{\n  \"name\": \"pd\",\n  \"rows\": 3,\n  \"fields\": [\n    {\n      \"column\": \"info\",\n      \"properties\": {\n        \"dtype\": \"string\",\n        \"num_unique_values\": 3,\n        \"samples\": [\n          \"0.83\",\n          \"1.67\",\n          \"1.63\"\n        ],\n        \"semantic_type\": \"\",\n        \"description\": \"\"\n      }\n    }\n  ]\n}"
            }
          },
          "metadata": {},
          "execution_count": 22
        }
      ],
      "source": [
        "#or\n",
        "import pandas as pd\n",
        "pd.DataFrame.from_dict(Results,orient='index',columns=['info']).map('{:,.2f}'.format)"
      ]
    },
    {
      "cell_type": "markdown",
      "id": "293383eb-7e1d-42cf-ab90-c5ef44c11a96",
      "metadata": {
        "id": "293383eb-7e1d-42cf-ab90-c5ef44c11a96"
      },
      "source": [
        "From above, you know how much to produce (Gas and Oil) to get the most revenue subject to the constraints given."
      ]
    },
    {
      "cell_type": "markdown",
      "id": "972bc1be-52b2-404e-9bae-c63d51cf9339",
      "metadata": {
        "id": "972bc1be-52b2-404e-9bae-c63d51cf9339"
      },
      "source": [
        "7. **The Sensitivity of the Result** can be obtained like this:"
      ]
    },
    {
      "cell_type": "code",
      "execution_count": null,
      "id": "bfc1d779-df0d-42f7-b88c-e8935771110e",
      "metadata": {
        "id": "bfc1d779-df0d-42f7-b88c-e8935771110e",
        "colab": {
          "base_uri": "https://localhost:8080/",
          "height": 390
        },
        "outputId": "512f8a0a-dc98-41a3-f5a4-eabfb5889647"
      },
      "outputs": [
        {
          "output_type": "execute_result",
          "data": {
            "text/plain": [
              "                     shadow price    slack\n",
              "constraints                               \n",
              "Vitimin_C                   -0.00   -22.79\n",
              "Calcium                     -0.00  -232.56\n",
              "Iron                        -0.00    -0.00\n",
              "Niacin                      -0.00    -0.00\n",
              "Magnesium                   -0.00   111.63\n",
              "Vitimin_C_constraint        -0.00   -22.79\n",
              "Calcium_constraint          -0.00  -232.56\n",
              "Iron_constraint              0.02    -0.00\n",
              "Niacin_constraint            0.03    -0.00\n",
              "Magnesium_constraint        -0.00   111.63"
            ],
            "text/html": [
              "\n",
              "  <div id=\"df-c3e3389c-a3ac-4e44-bdf6-69b504493723\" class=\"colab-df-container\">\n",
              "    <div>\n",
              "<style scoped>\n",
              "    .dataframe tbody tr th:only-of-type {\n",
              "        vertical-align: middle;\n",
              "    }\n",
              "\n",
              "    .dataframe tbody tr th {\n",
              "        vertical-align: top;\n",
              "    }\n",
              "\n",
              "    .dataframe thead th {\n",
              "        text-align: right;\n",
              "    }\n",
              "</style>\n",
              "<table border=\"1\" class=\"dataframe\">\n",
              "  <thead>\n",
              "    <tr style=\"text-align: right;\">\n",
              "      <th></th>\n",
              "      <th>shadow price</th>\n",
              "      <th>slack</th>\n",
              "    </tr>\n",
              "    <tr>\n",
              "      <th>constraints</th>\n",
              "      <th></th>\n",
              "      <th></th>\n",
              "    </tr>\n",
              "  </thead>\n",
              "  <tbody>\n",
              "    <tr>\n",
              "      <th>Vitimin_C</th>\n",
              "      <td>-0.00</td>\n",
              "      <td>-22.79</td>\n",
              "    </tr>\n",
              "    <tr>\n",
              "      <th>Calcium</th>\n",
              "      <td>-0.00</td>\n",
              "      <td>-232.56</td>\n",
              "    </tr>\n",
              "    <tr>\n",
              "      <th>Iron</th>\n",
              "      <td>-0.00</td>\n",
              "      <td>-0.00</td>\n",
              "    </tr>\n",
              "    <tr>\n",
              "      <th>Niacin</th>\n",
              "      <td>-0.00</td>\n",
              "      <td>-0.00</td>\n",
              "    </tr>\n",
              "    <tr>\n",
              "      <th>Magnesium</th>\n",
              "      <td>-0.00</td>\n",
              "      <td>111.63</td>\n",
              "    </tr>\n",
              "    <tr>\n",
              "      <th>Vitimin_C_constraint</th>\n",
              "      <td>-0.00</td>\n",
              "      <td>-22.79</td>\n",
              "    </tr>\n",
              "    <tr>\n",
              "      <th>Calcium_constraint</th>\n",
              "      <td>-0.00</td>\n",
              "      <td>-232.56</td>\n",
              "    </tr>\n",
              "    <tr>\n",
              "      <th>Iron_constraint</th>\n",
              "      <td>0.02</td>\n",
              "      <td>-0.00</td>\n",
              "    </tr>\n",
              "    <tr>\n",
              "      <th>Niacin_constraint</th>\n",
              "      <td>0.03</td>\n",
              "      <td>-0.00</td>\n",
              "    </tr>\n",
              "    <tr>\n",
              "      <th>Magnesium_constraint</th>\n",
              "      <td>-0.00</td>\n",
              "      <td>111.63</td>\n",
              "    </tr>\n",
              "  </tbody>\n",
              "</table>\n",
              "</div>\n",
              "    <div class=\"colab-df-buttons\">\n",
              "\n",
              "  <div class=\"colab-df-container\">\n",
              "    <button class=\"colab-df-convert\" onclick=\"convertToInteractive('df-c3e3389c-a3ac-4e44-bdf6-69b504493723')\"\n",
              "            title=\"Convert this dataframe to an interactive table.\"\n",
              "            style=\"display:none;\">\n",
              "\n",
              "  <svg xmlns=\"http://www.w3.org/2000/svg\" height=\"24px\" viewBox=\"0 -960 960 960\">\n",
              "    <path d=\"M120-120v-720h720v720H120Zm60-500h600v-160H180v160Zm220 220h160v-160H400v160Zm0 220h160v-160H400v160ZM180-400h160v-160H180v160Zm440 0h160v-160H620v160ZM180-180h160v-160H180v160Zm440 0h160v-160H620v160Z\"/>\n",
              "  </svg>\n",
              "    </button>\n",
              "\n",
              "  <style>\n",
              "    .colab-df-container {\n",
              "      display:flex;\n",
              "      gap: 12px;\n",
              "    }\n",
              "\n",
              "    .colab-df-convert {\n",
              "      background-color: #E8F0FE;\n",
              "      border: none;\n",
              "      border-radius: 50%;\n",
              "      cursor: pointer;\n",
              "      display: none;\n",
              "      fill: #1967D2;\n",
              "      height: 32px;\n",
              "      padding: 0 0 0 0;\n",
              "      width: 32px;\n",
              "    }\n",
              "\n",
              "    .colab-df-convert:hover {\n",
              "      background-color: #E2EBFA;\n",
              "      box-shadow: 0px 1px 2px rgba(60, 64, 67, 0.3), 0px 1px 3px 1px rgba(60, 64, 67, 0.15);\n",
              "      fill: #174EA6;\n",
              "    }\n",
              "\n",
              "    .colab-df-buttons div {\n",
              "      margin-bottom: 4px;\n",
              "    }\n",
              "\n",
              "    [theme=dark] .colab-df-convert {\n",
              "      background-color: #3B4455;\n",
              "      fill: #D2E3FC;\n",
              "    }\n",
              "\n",
              "    [theme=dark] .colab-df-convert:hover {\n",
              "      background-color: #434B5C;\n",
              "      box-shadow: 0px 1px 3px 1px rgba(0, 0, 0, 0.15);\n",
              "      filter: drop-shadow(0px 1px 2px rgba(0, 0, 0, 0.3));\n",
              "      fill: #FFFFFF;\n",
              "    }\n",
              "  </style>\n",
              "\n",
              "    <script>\n",
              "      const buttonEl =\n",
              "        document.querySelector('#df-c3e3389c-a3ac-4e44-bdf6-69b504493723 button.colab-df-convert');\n",
              "      buttonEl.style.display =\n",
              "        google.colab.kernel.accessAllowed ? 'block' : 'none';\n",
              "\n",
              "      async function convertToInteractive(key) {\n",
              "        const element = document.querySelector('#df-c3e3389c-a3ac-4e44-bdf6-69b504493723');\n",
              "        const dataTable =\n",
              "          await google.colab.kernel.invokeFunction('convertToInteractive',\n",
              "                                                    [key], {});\n",
              "        if (!dataTable) return;\n",
              "\n",
              "        const docLinkHtml = 'Like what you see? Visit the ' +\n",
              "          '<a target=\"_blank\" href=https://colab.research.google.com/notebooks/data_table.ipynb>data table notebook</a>'\n",
              "          + ' to learn more about interactive tables.';\n",
              "        element.innerHTML = '';\n",
              "        dataTable['output_type'] = 'display_data';\n",
              "        await google.colab.output.renderOutput(dataTable, element);\n",
              "        const docLink = document.createElement('div');\n",
              "        docLink.innerHTML = docLinkHtml;\n",
              "        element.appendChild(docLink);\n",
              "      }\n",
              "    </script>\n",
              "  </div>\n",
              "\n",
              "\n",
              "<div id=\"df-cfa89a49-f421-4b59-a322-0c9bce23ce16\">\n",
              "  <button class=\"colab-df-quickchart\" onclick=\"quickchart('df-cfa89a49-f421-4b59-a322-0c9bce23ce16')\"\n",
              "            title=\"Suggest charts\"\n",
              "            style=\"display:none;\">\n",
              "\n",
              "<svg xmlns=\"http://www.w3.org/2000/svg\" height=\"24px\"viewBox=\"0 0 24 24\"\n",
              "     width=\"24px\">\n",
              "    <g>\n",
              "        <path d=\"M19 3H5c-1.1 0-2 .9-2 2v14c0 1.1.9 2 2 2h14c1.1 0 2-.9 2-2V5c0-1.1-.9-2-2-2zM9 17H7v-7h2v7zm4 0h-2V7h2v10zm4 0h-2v-4h2v4z\"/>\n",
              "    </g>\n",
              "</svg>\n",
              "  </button>\n",
              "\n",
              "<style>\n",
              "  .colab-df-quickchart {\n",
              "      --bg-color: #E8F0FE;\n",
              "      --fill-color: #1967D2;\n",
              "      --hover-bg-color: #E2EBFA;\n",
              "      --hover-fill-color: #174EA6;\n",
              "      --disabled-fill-color: #AAA;\n",
              "      --disabled-bg-color: #DDD;\n",
              "  }\n",
              "\n",
              "  [theme=dark] .colab-df-quickchart {\n",
              "      --bg-color: #3B4455;\n",
              "      --fill-color: #D2E3FC;\n",
              "      --hover-bg-color: #434B5C;\n",
              "      --hover-fill-color: #FFFFFF;\n",
              "      --disabled-bg-color: #3B4455;\n",
              "      --disabled-fill-color: #666;\n",
              "  }\n",
              "\n",
              "  .colab-df-quickchart {\n",
              "    background-color: var(--bg-color);\n",
              "    border: none;\n",
              "    border-radius: 50%;\n",
              "    cursor: pointer;\n",
              "    display: none;\n",
              "    fill: var(--fill-color);\n",
              "    height: 32px;\n",
              "    padding: 0;\n",
              "    width: 32px;\n",
              "  }\n",
              "\n",
              "  .colab-df-quickchart:hover {\n",
              "    background-color: var(--hover-bg-color);\n",
              "    box-shadow: 0 1px 2px rgba(60, 64, 67, 0.3), 0 1px 3px 1px rgba(60, 64, 67, 0.15);\n",
              "    fill: var(--button-hover-fill-color);\n",
              "  }\n",
              "\n",
              "  .colab-df-quickchart-complete:disabled,\n",
              "  .colab-df-quickchart-complete:disabled:hover {\n",
              "    background-color: var(--disabled-bg-color);\n",
              "    fill: var(--disabled-fill-color);\n",
              "    box-shadow: none;\n",
              "  }\n",
              "\n",
              "  .colab-df-spinner {\n",
              "    border: 2px solid var(--fill-color);\n",
              "    border-color: transparent;\n",
              "    border-bottom-color: var(--fill-color);\n",
              "    animation:\n",
              "      spin 1s steps(1) infinite;\n",
              "  }\n",
              "\n",
              "  @keyframes spin {\n",
              "    0% {\n",
              "      border-color: transparent;\n",
              "      border-bottom-color: var(--fill-color);\n",
              "      border-left-color: var(--fill-color);\n",
              "    }\n",
              "    20% {\n",
              "      border-color: transparent;\n",
              "      border-left-color: var(--fill-color);\n",
              "      border-top-color: var(--fill-color);\n",
              "    }\n",
              "    30% {\n",
              "      border-color: transparent;\n",
              "      border-left-color: var(--fill-color);\n",
              "      border-top-color: var(--fill-color);\n",
              "      border-right-color: var(--fill-color);\n",
              "    }\n",
              "    40% {\n",
              "      border-color: transparent;\n",
              "      border-right-color: var(--fill-color);\n",
              "      border-top-color: var(--fill-color);\n",
              "    }\n",
              "    60% {\n",
              "      border-color: transparent;\n",
              "      border-right-color: var(--fill-color);\n",
              "    }\n",
              "    80% {\n",
              "      border-color: transparent;\n",
              "      border-right-color: var(--fill-color);\n",
              "      border-bottom-color: var(--fill-color);\n",
              "    }\n",
              "    90% {\n",
              "      border-color: transparent;\n",
              "      border-bottom-color: var(--fill-color);\n",
              "    }\n",
              "  }\n",
              "</style>\n",
              "\n",
              "  <script>\n",
              "    async function quickchart(key) {\n",
              "      const quickchartButtonEl =\n",
              "        document.querySelector('#' + key + ' button');\n",
              "      quickchartButtonEl.disabled = true;  // To prevent multiple clicks.\n",
              "      quickchartButtonEl.classList.add('colab-df-spinner');\n",
              "      try {\n",
              "        const charts = await google.colab.kernel.invokeFunction(\n",
              "            'suggestCharts', [key], {});\n",
              "      } catch (error) {\n",
              "        console.error('Error during call to suggestCharts:', error);\n",
              "      }\n",
              "      quickchartButtonEl.classList.remove('colab-df-spinner');\n",
              "      quickchartButtonEl.classList.add('colab-df-quickchart-complete');\n",
              "    }\n",
              "    (() => {\n",
              "      let quickchartButtonEl =\n",
              "        document.querySelector('#df-cfa89a49-f421-4b59-a322-0c9bce23ce16 button');\n",
              "      quickchartButtonEl.style.display =\n",
              "        google.colab.kernel.accessAllowed ? 'block' : 'none';\n",
              "    })();\n",
              "  </script>\n",
              "</div>\n",
              "\n",
              "    </div>\n",
              "  </div>\n"
            ],
            "application/vnd.google.colaboratory.intrinsic+json": {
              "type": "dataframe",
              "summary": "{\n  \"name\": \"pd\",\n  \"rows\": 10,\n  \"fields\": [\n    {\n      \"column\": \"constraints\",\n      \"properties\": {\n        \"dtype\": \"string\",\n        \"num_unique_values\": 10,\n        \"samples\": [\n          \"Niacin_constraint\",\n          \"Calcium\",\n          \"Vitimin_C_constraint\"\n        ],\n        \"semantic_type\": \"\",\n        \"description\": \"\"\n      }\n    },\n    {\n      \"column\": \"shadow price\",\n      \"properties\": {\n        \"dtype\": \"category\",\n        \"num_unique_values\": 3,\n        \"samples\": [\n          \"-0.00\",\n          \"0.02\",\n          \"0.03\"\n        ],\n        \"semantic_type\": \"\",\n        \"description\": \"\"\n      }\n    },\n    {\n      \"column\": \"slack\",\n      \"properties\": {\n        \"dtype\": \"category\",\n        \"num_unique_values\": 4,\n        \"samples\": [\n          \"-232.56\",\n          \"111.63\",\n          \"-22.79\"\n        ],\n        \"semantic_type\": \"\",\n        \"description\": \"\"\n      }\n    }\n  ]\n}"
            }
          },
          "metadata": {},
          "execution_count": 23
        }
      ],
      "source": [
        "sensitivityValues = [{'constraints':name, 'shadow price':c.pi, 'slack': c.slack}\n",
        "                     for name, c in model.constraints.items()]\n",
        "\n",
        "pd.DataFrame(sensitivityValues).set_index('constraints').map('{:,.2f}'.format)"
      ]
    }
  ],
  "metadata": {
    "kernelspec": {
      "display_name": "Python 3 (ipykernel)",
      "language": "python",
      "name": "python3"
    },
    "language_info": {
      "codemirror_mode": {
        "name": "ipython",
        "version": 3
      },
      "file_extension": ".py",
      "mimetype": "text/x-python",
      "name": "python",
      "nbconvert_exporter": "python",
      "pygments_lexer": "ipython3",
      "version": "3.10.16"
    },
    "colab": {
      "provenance": [],
      "name": "UPDATEDcodeformax.ipynb",
      "include_colab_link": true
    }
  },
  "nbformat": 4,
  "nbformat_minor": 5
}