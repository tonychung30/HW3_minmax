{
 "cells": [
  {
   "cell_type": "markdown",
   "id": "0dc016cf",
   "metadata": {
    "colab_type": "text",
    "id": "view-in-github"
   },
   "source": [
    "<a href=\"https://colab.research.google.com/github/tonychung30/HW3_minmax/blob/main/codeForMax.ipynb\" target=\"_parent\"><img src=\"https://colab.research.google.com/assets/colab-badge.svg\" alt=\"Open In Colab\"/></a>"
   ]
  },
  {
   "cell_type": "code",
   "execution_count": 20,
   "id": "2d2e3d99-7100-4941-aad8-57b178798e94",
   "metadata": {
    "colab": {
     "base_uri": "https://localhost:8080/"
    },
    "id": "2d2e3d99-7100-4941-aad8-57b178798e94",
    "outputId": "39bb804f-0e30-4e49-8f83-619a4d9ffb9c"
   },
   "outputs": [
    {
     "name": "stdout",
     "output_type": "stream",
     "text": [
      "Requirement already satisfied: pulp in /usr/local/lib/python3.11/dist-packages (3.1.1)\n"
     ]
    }
   ],
   "source": [
    " !pip install  pulp"
   ]
  },
  {
   "cell_type": "code",
   "execution_count": 21,
   "id": "a105dc9b-d105-49d3-8093-96d03eca9530",
   "metadata": {
    "id": "a105dc9b-d105-49d3-8093-96d03eca9530"
   },
   "outputs": [],
   "source": [
    "import pulp as pp"
   ]
  },
  {
   "cell_type": "markdown",
   "id": "dd461c8a-8a20-4a93-aa9e-2b46c1deaf52",
   "metadata": {
    "id": "dd461c8a-8a20-4a93-aa9e-2b46c1deaf52"
   },
   "source": [
    "1. **Initialize the MODEL**: just write the name and declare if it is maximization or minimization problem type."
   ]
  },
  {
   "cell_type": "code",
   "execution_count": null,
   "id": "4436e0c7",
   "metadata": {
    "id": "4436e0c7"
   },
   "outputs": [],
   "source": [
    "model = pp.LpProblem(name='refinery-problem', # just the name\n",
    "                     sense=pp.LpMaximize) # other option: LpMinimize"
   ]
  },
  {
   "cell_type": "markdown",
   "id": "c001fd3a-190b-45d8-9fa3-c3e21578fa03",
   "metadata": {
    "id": "c001fd3a-190b-45d8-9fa3-c3e21578fa03"
   },
   "source": [
    "2. **Declare the VARIABLES**: The refinery model consists of these _variables_:"
   ]
  },
  {
   "cell_type": "code",
   "execution_count": null,
   "id": "8533e838-9e02-4ca8-85ef-de557cb1dd7c",
   "metadata": {
    "id": "8533e838-9e02-4ca8-85ef-de557cb1dd7c",
    "jupyter": {
     "source_hidden": true
    }
   },
   "outputs": [],
   "source": [
    "# how much gas?\n",
    "Gas = pp.LpVariable(name=\"Gas\",  # just the name\n",
    "                    lowBound=0,  # ensure non-negativity\n",
    "                    cat='Continuous') # when would 'Integer' be needed?\n",
    "\n",
    "# how much oil?\n",
    "Oil = pp.LpVariable(name=\"Oil\",\n",
    "                 lowBound=0,\n",
    "                 cat='Continuous')"
   ]
  },
  {
   "cell_type": "markdown",
   "id": "611438aa-54e1-4cdd-aa77-44702feb498a",
   "metadata": {
    "id": "611438aa-54e1-4cdd-aa77-44702feb498a"
   },
   "source": [
    "3. **Create function to OPTIMIZE**: The function is just the linear combination of the variables and their _given coefficients_:"
   ]
  },
  {
   "cell_type": "code",
   "execution_count": null,
   "id": "e676c256-353d-4fbd-a206-6914f29ff8ba",
   "metadata": {
    "id": "e676c256-353d-4fbd-a206-6914f29ff8ba"
   },
   "outputs": [],
   "source": [
    "GasCoeff=1.9\n",
    "OilCoeff=1.5\n",
    "obj_func = GasCoeff*Gas + OilCoeff*Oil"
   ]
  },
  {
   "cell_type": "markdown",
   "id": "65a5c48f-d28c-489a-bcd4-f97be76b57c7",
   "metadata": {
    "id": "65a5c48f-d28c-489a-bcd4-f97be76b57c7"
   },
   "source": [
    "4. **Represent the constraints**: These are the rules the model (set of variables) must obey:"
   ]
  },
  {
   "cell_type": "code",
   "execution_count": null,
   "id": "c24146f7-5db5-4606-90fd-9bc010685754",
   "metadata": {
    "id": "c24146f7-5db5-4606-90fd-9bc010685754"
   },
   "outputs": [],
   "source": [
    "# SUBJECT TO:\n",
    "C1= pp.LpConstraint(name='GAS',   # just the name\n",
    "                    e= 1*Gas - 2*Oil,\n",
    "                    rhs=0,\n",
    "                    sense=pp.LpConstraintGE) # >= 'sense'\n",
    "C2= pp.LpConstraint(name='OIL',\n",
    "                    e= 1*Oil,\n",
    "                    rhs=3000000,\n",
    "                    sense=pp.LpConstraintGE)\n",
    "C3= pp.LpConstraint(name='PRODUCTION',\n",
    "                    e= 1*Gas,\n",
    "                    rhs=6400000,\n",
    "                    sense=pp.LpConstraintLE, )# <= 'sense'"
   ]
  },
  {
   "cell_type": "markdown",
   "id": "10465ba5-03d5-41d0-9e65-b4c13d8a8728",
   "metadata": {
    "id": "10465ba5-03d5-41d0-9e65-b4c13d8a8728"
   },
   "source": [
    "5. **Build MODEL**: Here you add (i) the objective function, and (ii) all the constraints:"
   ]
  },
  {
   "cell_type": "code",
   "execution_count": null,
   "id": "44dd2783-49c1-44fd-952b-47743c9d4686",
   "metadata": {
    "id": "44dd2783-49c1-44fd-952b-47743c9d4686"
   },
   "outputs": [],
   "source": [
    "model += obj_func\n",
    "model += C1\n",
    "model += C2\n",
    "model += C3\n"
   ]
  },
  {
   "cell_type": "markdown",
   "id": "2a332886-694b-40d8-98d3-e27066b28e96",
   "metadata": {
    "id": "2a332886-694b-40d8-98d3-e27066b28e96"
   },
   "source": [
    "6. **Solve the MODEL**: Notice we are not using the _default solver_:"
   ]
  },
  {
   "cell_type": "code",
   "execution_count": null,
   "id": "636442d1-a48c-4a3a-a84d-9f2312f3d473",
   "metadata": {
    "id": "636442d1-a48c-4a3a-a84d-9f2312f3d473"
   },
   "outputs": [],
   "source": [
    "model.solve();"
   ]
  },
  {
   "cell_type": "markdown",
   "id": "1cd725f8-fef3-48b6-ad74-d102c260c134",
   "metadata": {
    "id": "1cd725f8-fef3-48b6-ad74-d102c260c134"
   },
   "source": [
    "7. **Basic Report**:\n",
    "\n",
    "From above, you can print:"
   ]
  },
  {
   "cell_type": "code",
   "execution_count": null,
   "id": "cb6125aa-53db-4fdf-8f11-8b2aaa8b347d",
   "metadata": {
    "id": "cb6125aa-53db-4fdf-8f11-8b2aaa8b347d"
   },
   "outputs": [],
   "source": [
    "\"Model Status\",pp.LpStatus[model.status]"
   ]
  },
  {
   "cell_type": "markdown",
   "id": "7db07777-25b5-46c9-9d51-f1d0e3ceb709",
   "metadata": {
    "id": "7db07777-25b5-46c9-9d51-f1d0e3ceb709"
   },
   "source": [
    "Also, get these key results:"
   ]
  },
  {
   "cell_type": "code",
   "execution_count": null,
   "id": "3a0152d1-cdd5-4426-9ba6-90556a685048",
   "metadata": {
    "id": "3a0152d1-cdd5-4426-9ba6-90556a685048"
   },
   "outputs": [],
   "source": [
    "Results={\"Optimal Solution to maximize revenue\":pp.value(model.objective)}\n",
    "Results.update({v.name: v.varValue for v in model.variables()})\n",
    "Results"
   ]
  },
  {
   "cell_type": "code",
   "execution_count": null,
   "id": "651fadcc-cb30-4caa-98e4-f6215c0be7a9",
   "metadata": {
    "id": "651fadcc-cb30-4caa-98e4-f6215c0be7a9"
   },
   "outputs": [],
   "source": [
    "#or\n",
    "import pandas as pd\n",
    "pd.DataFrame.from_dict(Results,orient='index',columns=['info']).map('{:,.2f}'.format)"
   ]
  },
  {
   "cell_type": "markdown",
   "id": "293383eb-7e1d-42cf-ab90-c5ef44c11a96",
   "metadata": {
    "id": "293383eb-7e1d-42cf-ab90-c5ef44c11a96"
   },
   "source": [
    "From above, you know how much to produce (Gas and Oil) to get the most revenue subject to the constraints given."
   ]
  },
  {
   "cell_type": "markdown",
   "id": "972bc1be-52b2-404e-9bae-c63d51cf9339",
   "metadata": {
    "id": "972bc1be-52b2-404e-9bae-c63d51cf9339"
   },
   "source": [
    "7. **The Sensitivity of the Result** can be obtained like this:"
   ]
  },
  {
   "cell_type": "code",
   "execution_count": null,
   "id": "bfc1d779-df0d-42f7-b88c-e8935771110e",
   "metadata": {
    "id": "bfc1d779-df0d-42f7-b88c-e8935771110e"
   },
   "outputs": [],
   "source": [
    "sensitivityValues = [{'constraints':name, 'shadow price':c.pi, 'slack': c.slack}\n",
    "                     for name, c in model.constraints.items()]\n",
    "\n",
    "pd.DataFrame(sensitivityValues).set_index('constraints').map('{:,.2f}'.format)"
   ]
  }
 ],
 "metadata": {
  "colab": {
   "include_colab_link": true,
   "provenance": []
  },
  "kernelspec": {
   "display_name": "Python [conda env:base] *",
   "language": "python",
   "name": "conda-base-py"
  },
  "language_info": {
   "codemirror_mode": {
    "name": "ipython",
    "version": 3
   },
   "file_extension": ".py",
   "mimetype": "text/x-python",
   "name": "python",
   "nbconvert_exporter": "python",
   "pygments_lexer": "ipython3",
   "version": "3.12.7"
  }
 },
 "nbformat": 4,
 "nbformat_minor": 5
}
